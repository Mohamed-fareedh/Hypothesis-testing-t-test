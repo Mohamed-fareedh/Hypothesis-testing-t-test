{
  "cells": [
    {
      "cell_type": "code",
      "execution_count": null,
      "metadata": {
        "colab": {
          "base_uri": "https://localhost:8080/",
          "height": 73
        },
        "id": "3mCdmADoozNg",
        "outputId": "4f766bb0-2a3c-4c0c-cef8-92472fff44c3"
      },
      "outputs": [
        {
          "data": {
            "text/html": [
              "\n",
              "     <input type=\"file\" id=\"files-8181bc14-1c4e-4605-8251-0cf4ec22bb8a\" name=\"files[]\" multiple disabled\n",
              "        style=\"border:none\" />\n",
              "     <output id=\"result-8181bc14-1c4e-4605-8251-0cf4ec22bb8a\">\n",
              "      Upload widget is only available when the cell has been executed in the\n",
              "      current browser session. Please rerun this cell to enable.\n",
              "      </output>\n",
              "      <script>// Copyright 2017 Google LLC\n",
              "//\n",
              "// Licensed under the Apache License, Version 2.0 (the \"License\");\n",
              "// you may not use this file except in compliance with the License.\n",
              "// You may obtain a copy of the License at\n",
              "//\n",
              "//      http://www.apache.org/licenses/LICENSE-2.0\n",
              "//\n",
              "// Unless required by applicable law or agreed to in writing, software\n",
              "// distributed under the License is distributed on an \"AS IS\" BASIS,\n",
              "// WITHOUT WARRANTIES OR CONDITIONS OF ANY KIND, either express or implied.\n",
              "// See the License for the specific language governing permissions and\n",
              "// limitations under the License.\n",
              "\n",
              "/**\n",
              " * @fileoverview Helpers for google.colab Python module.\n",
              " */\n",
              "(function(scope) {\n",
              "function span(text, styleAttributes = {}) {\n",
              "  const element = document.createElement('span');\n",
              "  element.textContent = text;\n",
              "  for (const key of Object.keys(styleAttributes)) {\n",
              "    element.style[key] = styleAttributes[key];\n",
              "  }\n",
              "  return element;\n",
              "}\n",
              "\n",
              "// Max number of bytes which will be uploaded at a time.\n",
              "const MAX_PAYLOAD_SIZE = 100 * 1024;\n",
              "\n",
              "function _uploadFiles(inputId, outputId) {\n",
              "  const steps = uploadFilesStep(inputId, outputId);\n",
              "  const outputElement = document.getElementById(outputId);\n",
              "  // Cache steps on the outputElement to make it available for the next call\n",
              "  // to uploadFilesContinue from Python.\n",
              "  outputElement.steps = steps;\n",
              "\n",
              "  return _uploadFilesContinue(outputId);\n",
              "}\n",
              "\n",
              "// This is roughly an async generator (not supported in the browser yet),\n",
              "// where there are multiple asynchronous steps and the Python side is going\n",
              "// to poll for completion of each step.\n",
              "// This uses a Promise to block the python side on completion of each step,\n",
              "// then passes the result of the previous step as the input to the next step.\n",
              "function _uploadFilesContinue(outputId) {\n",
              "  const outputElement = document.getElementById(outputId);\n",
              "  const steps = outputElement.steps;\n",
              "\n",
              "  const next = steps.next(outputElement.lastPromiseValue);\n",
              "  return Promise.resolve(next.value.promise).then((value) => {\n",
              "    // Cache the last promise value to make it available to the next\n",
              "    // step of the generator.\n",
              "    outputElement.lastPromiseValue = value;\n",
              "    return next.value.response;\n",
              "  });\n",
              "}\n",
              "\n",
              "/**\n",
              " * Generator function which is called between each async step of the upload\n",
              " * process.\n",
              " * @param {string} inputId Element ID of the input file picker element.\n",
              " * @param {string} outputId Element ID of the output display.\n",
              " * @return {!Iterable<!Object>} Iterable of next steps.\n",
              " */\n",
              "function* uploadFilesStep(inputId, outputId) {\n",
              "  const inputElement = document.getElementById(inputId);\n",
              "  inputElement.disabled = false;\n",
              "\n",
              "  const outputElement = document.getElementById(outputId);\n",
              "  outputElement.innerHTML = '';\n",
              "\n",
              "  const pickedPromise = new Promise((resolve) => {\n",
              "    inputElement.addEventListener('change', (e) => {\n",
              "      resolve(e.target.files);\n",
              "    });\n",
              "  });\n",
              "\n",
              "  const cancel = document.createElement('button');\n",
              "  inputElement.parentElement.appendChild(cancel);\n",
              "  cancel.textContent = 'Cancel upload';\n",
              "  const cancelPromise = new Promise((resolve) => {\n",
              "    cancel.onclick = () => {\n",
              "      resolve(null);\n",
              "    };\n",
              "  });\n",
              "\n",
              "  // Wait for the user to pick the files.\n",
              "  const files = yield {\n",
              "    promise: Promise.race([pickedPromise, cancelPromise]),\n",
              "    response: {\n",
              "      action: 'starting',\n",
              "    }\n",
              "  };\n",
              "\n",
              "  cancel.remove();\n",
              "\n",
              "  // Disable the input element since further picks are not allowed.\n",
              "  inputElement.disabled = true;\n",
              "\n",
              "  if (!files) {\n",
              "    return {\n",
              "      response: {\n",
              "        action: 'complete',\n",
              "      }\n",
              "    };\n",
              "  }\n",
              "\n",
              "  for (const file of files) {\n",
              "    const li = document.createElement('li');\n",
              "    li.append(span(file.name, {fontWeight: 'bold'}));\n",
              "    li.append(span(\n",
              "        `(${file.type || 'n/a'}) - ${file.size} bytes, ` +\n",
              "        `last modified: ${\n",
              "            file.lastModifiedDate ? file.lastModifiedDate.toLocaleDateString() :\n",
              "                                    'n/a'} - `));\n",
              "    const percent = span('0% done');\n",
              "    li.appendChild(percent);\n",
              "\n",
              "    outputElement.appendChild(li);\n",
              "\n",
              "    const fileDataPromise = new Promise((resolve) => {\n",
              "      const reader = new FileReader();\n",
              "      reader.onload = (e) => {\n",
              "        resolve(e.target.result);\n",
              "      };\n",
              "      reader.readAsArrayBuffer(file);\n",
              "    });\n",
              "    // Wait for the data to be ready.\n",
              "    let fileData = yield {\n",
              "      promise: fileDataPromise,\n",
              "      response: {\n",
              "        action: 'continue',\n",
              "      }\n",
              "    };\n",
              "\n",
              "    // Use a chunked sending to avoid message size limits. See b/62115660.\n",
              "    let position = 0;\n",
              "    do {\n",
              "      const length = Math.min(fileData.byteLength - position, MAX_PAYLOAD_SIZE);\n",
              "      const chunk = new Uint8Array(fileData, position, length);\n",
              "      position += length;\n",
              "\n",
              "      const base64 = btoa(String.fromCharCode.apply(null, chunk));\n",
              "      yield {\n",
              "        response: {\n",
              "          action: 'append',\n",
              "          file: file.name,\n",
              "          data: base64,\n",
              "        },\n",
              "      };\n",
              "\n",
              "      let percentDone = fileData.byteLength === 0 ?\n",
              "          100 :\n",
              "          Math.round((position / fileData.byteLength) * 100);\n",
              "      percent.textContent = `${percentDone}% done`;\n",
              "\n",
              "    } while (position < fileData.byteLength);\n",
              "  }\n",
              "\n",
              "  // All done.\n",
              "  yield {\n",
              "    response: {\n",
              "      action: 'complete',\n",
              "    }\n",
              "  };\n",
              "}\n",
              "\n",
              "scope.google = scope.google || {};\n",
              "scope.google.colab = scope.google.colab || {};\n",
              "scope.google.colab._files = {\n",
              "  _uploadFiles,\n",
              "  _uploadFilesContinue,\n",
              "};\n",
              "})(self);\n",
              "</script> "
            ],
            "text/plain": [
              "<IPython.core.display.HTML object>"
            ]
          },
          "metadata": {},
          "output_type": "display_data"
        },
        {
          "name": "stdout",
          "output_type": "stream",
          "text": [
            "Saving Nlp.txt to Nlp (1).txt\n"
          ]
        }
      ],
      "source": [
        "from google.colab import files\n",
        "uploaded = files.upload()"
      ]
    },
    {
      "cell_type": "markdown",
      "metadata": {
        "id": "vDaGzYRmqgps"
      },
      "source": [
        "**1.Creating list from given data corpus**\n"
      ]
    },
    {
      "cell_type": "code",
      "execution_count": null,
      "metadata": {
        "colab": {
          "base_uri": "https://localhost:8080/"
        },
        "id": "4Hea-mBNqxGD",
        "outputId": "465b2e75-4f1e-4595-c7c2-3bc7975f02eb"
      },
      "outputs": [
        {
          "name": "stdout",
          "output_type": "stream",
          "text": [
            "['natural', 'language', 'processing', 'is', 'good', 'natural', 'language', 'processing', 'is', 'a', 'good', 'subject', 'for', 'doing', 'mini', 'project', 'natural', 'food', 'is', 'always', 'good', 'for', 'our', 'health', 'pradeepa', 'is', 'handling', 'natural', 'language', 'processing', 'subject', 'for', 'third', 'year', 'student', 'arun', 'is', 'always', 'taking', 'natural', 'food']\n"
          ]
        }
      ],
      "source": [
        "f = open(\"Source_File.txt\",\"r\")\n",
        "corpus = f.read()\n",
        "word_list = corpus.split(\" \")\n",
        "word_list = word_list[:-1]\n",
        "print(word_list)\n",
        "f.close()"
      ]
    },
    {
      "cell_type": "markdown",
      "metadata": {
        "id": "aMp2rcQDoKSw"
      },
      "source": []
    },
    {
      "cell_type": "code",
      "execution_count": null,
      "metadata": {
        "id": "EEjDVic6oWyH"
      },
      "outputs": [],
      "source": [
        "for i in range(len(word_list)):\n",
        "  for j in range(len(word_list)):\n",
        "    l =\n"
      ]
    },
    {
      "cell_type": "markdown",
      "metadata": {
        "id": "ga4BJzqXreyr"
      },
      "source": [
        "**2.Getting Confidence level and critical value**"
      ]
    },
    {
      "cell_type": "code",
      "execution_count": null,
      "metadata": {
        "colab": {
          "base_uri": "https://localhost:8080/"
        },
        "id": "cAl62XtFrvFu",
        "outputId": "ddb9216b-2560-473f-f886-9ba263e24930"
      },
      "outputs": [
        {
          "name": "stdout",
          "output_type": "stream",
          "text": [
            "Enter confidence value :0.05\n",
            "Enter Critical value :2.56\n"
          ]
        }
      ],
      "source": [
        "\n",
        "Alpha = float(input(\"Enter confidence value :\"))\n",
        "Cri_Value = float(input(\"Enter Critical value :\"))\n",
        "\n",
        "#print(Alpha)\n",
        "#print(Cri_Value)"
      ]
    },
    {
      "cell_type": "markdown",
      "metadata": {
        "id": "qE9rAHUWtPDO"
      },
      "source": [
        "**3.Getting two words to check the colocation.**"
      ]
    },
    {
      "cell_type": "code",
      "execution_count": null,
      "metadata": {
        "colab": {
          "base_uri": "https://localhost:8080/"
        },
        "id": "1jmpk8RHtXg6",
        "outputId": "1803c636-36ce-42e0-83a1-ac20523e29fe"
      },
      "outputs": [
        {
          "name": "stdout",
          "output_type": "stream",
          "text": [
            "Enter word 1 :is\n",
            "Enter word 2 :handling\n"
          ]
        }
      ],
      "source": [
        "w1 = input(\"Enter word 1 :\")\n",
        "w2 = input(\"Enter word 2 :\")\n",
        "\n",
        "#print(W1)\n",
        "#print(w2)"
      ]
    },
    {
      "cell_type": "markdown",
      "metadata": {
        "id": "-KxXKiCuuHU1"
      },
      "source": [
        "4.Counting frequency for word 1 , word 2"
      ]
    },
    {
      "cell_type": "code",
      "execution_count": null,
      "metadata": {
        "colab": {
          "base_uri": "https://localhost:8080/"
        },
        "id": "Fko457cot537",
        "outputId": "23924317-404c-4cad-bd07-cd9d50ad8469"
      },
      "outputs": [
        {
          "name": "stdout",
          "output_type": "stream",
          "text": [
            "(5, 1)\n",
            "is frequency - 5\n",
            "handling frequency - 3\n"
          ]
        }
      ],
      "source": [
        "#w1 = 'natural'\n",
        "#w2 = 'language'\n",
        "\n",
        "def single_word_count(wordy_1,wordy_2):\n",
        "  w1_Count = 0\n",
        "  w2_Count = 0\n",
        "  for i in word_list :\n",
        "    if i == w1 :\n",
        "      w1_Count = w1_Count + 1\n",
        "    if i == w2 :\n",
        "      w2_Count = w2_Count + 1\n",
        "  return w1_Count,w2_Count\n",
        "\n",
        "print(single_word_count(w1,w2))\n",
        "print(w1 + \" frequency -\" ,w1_Count)\n",
        "print(w2 + \" frequency -\" ,w2_Count)\n",
        "\n",
        "#Assigning variable or total words\n",
        "T_Words = len(word_list)\n",
        "#print(T_Words)"
      ]
    },
    {
      "cell_type": "markdown",
      "metadata": {
        "id": "yUht_JduvPS2"
      },
      "source": [
        "**5.Count frequency for word1 + word2**"
      ]
    },
    {
      "cell_type": "code",
      "execution_count": null,
      "metadata": {
        "colab": {
          "base_uri": "https://localhost:8080/"
        },
        "id": "bn9dBOokvN6x",
        "outputId": "67e5d302-4390-4c8c-d0f4-55c5cf181cbf"
      },
      "outputs": [
        {
          "data": {
            "text/plain": [
              "1"
            ]
          },
          "execution_count": 48,
          "metadata": {},
          "output_type": "execute_result"
        }
      ],
      "source": [
        "\n",
        "\n",
        "def joint_word_count(wordy_1,wordy_2):\n",
        "  Joint_Count = 0\n",
        "  for i in range(len(word_list)):\n",
        "    if len(word_list)%2 != 0 :\n",
        "      if word_list[i] == w1 and word_list[i+1] == w2 :\n",
        "        Joint_Count = Joint_Count + 1\n",
        "    else :\n",
        "      if i != len(word_list)-1:\n",
        "        if word_list[i] == w1 and word_list[i+1] == w2 :\n",
        "          Joint_Count = Joint_Count + 1\n",
        "        else:\n",
        "          break\n",
        "\n",
        "  return Joint_Count\n",
        "\n",
        "\n",
        "\n",
        "joint_word_count(w1,w2)\n",
        "#print(w1 +\" \"+ w2 + \" frequency - \" ,joint_word_count(w1_Count,w2_Count))\n",
        "\n"
      ]
    },
    {
      "cell_type": "markdown",
      "metadata": {
        "id": "Q17crm-RxOXt"
      },
      "source": [
        "**6.Table of the frequency count**"
      ]
    },
    {
      "cell_type": "code",
      "execution_count": null,
      "metadata": {
        "colab": {
          "base_uri": "https://localhost:8080/",
          "height": 175
        },
        "id": "S4THyGilxWAN",
        "outputId": "d585187f-077c-41b3-a508-758d8901998f"
      },
      "outputs": [
        {
          "data": {
            "text/html": [
              "\n",
              "  <div id=\"df-b0608626-5b46-485e-bf0c-672f38250229\">\n",
              "    <div class=\"colab-df-container\">\n",
              "      <div>\n",
              "<style scoped>\n",
              "    .dataframe tbody tr th:only-of-type {\n",
              "        vertical-align: middle;\n",
              "    }\n",
              "\n",
              "    .dataframe tbody tr th {\n",
              "        vertical-align: top;\n",
              "    }\n",
              "\n",
              "    .dataframe thead th {\n",
              "        text-align: right;\n",
              "    }\n",
              "</style>\n",
              "<table border=\"1\" class=\"dataframe\">\n",
              "  <thead>\n",
              "    <tr style=\"text-align: right;\">\n",
              "      <th></th>\n",
              "      <th>Word/Words</th>\n",
              "      <th>Word_Frequency</th>\n",
              "    </tr>\n",
              "  </thead>\n",
              "  <tbody>\n",
              "    <tr>\n",
              "      <th>0</th>\n",
              "      <td>is</td>\n",
              "      <td>5</td>\n",
              "    </tr>\n",
              "    <tr>\n",
              "      <th>1</th>\n",
              "      <td>handling</td>\n",
              "      <td>3</td>\n",
              "    </tr>\n",
              "    <tr>\n",
              "      <th>2</th>\n",
              "      <td>is handling</td>\n",
              "      <td>3</td>\n",
              "    </tr>\n",
              "    <tr>\n",
              "      <th>3</th>\n",
              "      <td>Total words in Corpus</td>\n",
              "      <td>41</td>\n",
              "    </tr>\n",
              "  </tbody>\n",
              "</table>\n",
              "</div>\n",
              "      <button class=\"colab-df-convert\" onclick=\"convertToInteractive('df-b0608626-5b46-485e-bf0c-672f38250229')\"\n",
              "              title=\"Convert this dataframe to an interactive table.\"\n",
              "              style=\"display:none;\">\n",
              "        \n",
              "  <svg xmlns=\"http://www.w3.org/2000/svg\" height=\"24px\"viewBox=\"0 0 24 24\"\n",
              "       width=\"24px\">\n",
              "    <path d=\"M0 0h24v24H0V0z\" fill=\"none\"/>\n",
              "    <path d=\"M18.56 5.44l.94 2.06.94-2.06 2.06-.94-2.06-.94-.94-2.06-.94 2.06-2.06.94zm-11 1L8.5 8.5l.94-2.06 2.06-.94-2.06-.94L8.5 2.5l-.94 2.06-2.06.94zm10 10l.94 2.06.94-2.06 2.06-.94-2.06-.94-.94-2.06-.94 2.06-2.06.94z\"/><path d=\"M17.41 7.96l-1.37-1.37c-.4-.4-.92-.59-1.43-.59-.52 0-1.04.2-1.43.59L10.3 9.45l-7.72 7.72c-.78.78-.78 2.05 0 2.83L4 21.41c.39.39.9.59 1.41.59.51 0 1.02-.2 1.41-.59l7.78-7.78 2.81-2.81c.8-.78.8-2.07 0-2.86zM5.41 20L4 18.59l7.72-7.72 1.47 1.35L5.41 20z\"/>\n",
              "  </svg>\n",
              "      </button>\n",
              "      \n",
              "  <style>\n",
              "    .colab-df-container {\n",
              "      display:flex;\n",
              "      flex-wrap:wrap;\n",
              "      gap: 12px;\n",
              "    }\n",
              "\n",
              "    .colab-df-convert {\n",
              "      background-color: #E8F0FE;\n",
              "      border: none;\n",
              "      border-radius: 50%;\n",
              "      cursor: pointer;\n",
              "      display: none;\n",
              "      fill: #1967D2;\n",
              "      height: 32px;\n",
              "      padding: 0 0 0 0;\n",
              "      width: 32px;\n",
              "    }\n",
              "\n",
              "    .colab-df-convert:hover {\n",
              "      background-color: #E2EBFA;\n",
              "      box-shadow: 0px 1px 2px rgba(60, 64, 67, 0.3), 0px 1px 3px 1px rgba(60, 64, 67, 0.15);\n",
              "      fill: #174EA6;\n",
              "    }\n",
              "\n",
              "    [theme=dark] .colab-df-convert {\n",
              "      background-color: #3B4455;\n",
              "      fill: #D2E3FC;\n",
              "    }\n",
              "\n",
              "    [theme=dark] .colab-df-convert:hover {\n",
              "      background-color: #434B5C;\n",
              "      box-shadow: 0px 1px 3px 1px rgba(0, 0, 0, 0.15);\n",
              "      filter: drop-shadow(0px 1px 2px rgba(0, 0, 0, 0.3));\n",
              "      fill: #FFFFFF;\n",
              "    }\n",
              "  </style>\n",
              "\n",
              "      <script>\n",
              "        const buttonEl =\n",
              "          document.querySelector('#df-b0608626-5b46-485e-bf0c-672f38250229 button.colab-df-convert');\n",
              "        buttonEl.style.display =\n",
              "          google.colab.kernel.accessAllowed ? 'block' : 'none';\n",
              "\n",
              "        async function convertToInteractive(key) {\n",
              "          const element = document.querySelector('#df-b0608626-5b46-485e-bf0c-672f38250229');\n",
              "          const dataTable =\n",
              "            await google.colab.kernel.invokeFunction('convertToInteractive',\n",
              "                                                     [key], {});\n",
              "          if (!dataTable) return;\n",
              "\n",
              "          const docLinkHtml = 'Like what you see? Visit the ' +\n",
              "            '<a target=\"_blank\" href=https://colab.research.google.com/notebooks/data_table.ipynb>data table notebook</a>'\n",
              "            + ' to learn more about interactive tables.';\n",
              "          element.innerHTML = '';\n",
              "          dataTable['output_type'] = 'display_data';\n",
              "          await google.colab.output.renderOutput(dataTable, element);\n",
              "          const docLink = document.createElement('div');\n",
              "          docLink.innerHTML = docLinkHtml;\n",
              "          element.appendChild(docLink);\n",
              "        }\n",
              "      </script>\n",
              "    </div>\n",
              "  </div>\n",
              "  "
            ],
            "text/plain": [
              "              Word/Words  Word_Frequency\n",
              "0                     is               5\n",
              "1               handling               3\n",
              "2            is handling               3\n",
              "3  Total words in Corpus              41"
            ]
          },
          "execution_count": 47,
          "metadata": {},
          "output_type": "execute_result"
        }
      ],
      "source": [
        "import pandas as pd\n",
        "\n",
        "#row_header\n",
        "\n",
        "R1 = w1\n",
        "R2 = w2\n",
        "R_3 = w1 + \" \"+w2\n",
        "R_4 = \"Total words in Corpus\"\n",
        "\n",
        "Table_Val = {\"Word/Words\" : [R1,R2,R_3,R_4],\n",
        "             \"Word_Frequency\" : [w1_Count,w2_Count,Joint_Count,len(word_list)]}\n",
        "\n",
        "Table = pd.DataFrame(Table_Val)\n",
        "\n",
        "Table"
      ]
    },
    {
      "cell_type": "markdown",
      "metadata": {
        "id": "usQcBA0YsmPp"
      },
      "source": [
        "**7. Finding µ value(Mean of the distribution)**"
      ]
    },
    {
      "cell_type": "code",
      "execution_count": null,
      "metadata": {
        "colab": {
          "base_uri": "https://localhost:8080/"
        },
        "id": "p-GRhIlKs_-z",
        "outputId": "86aa5bc3-f918-4cf2-d1f2-8e94b1a3add9"
      },
      "outputs": [
        {
          "name": "stdout",
          "output_type": "stream",
          "text": [
            "µ value(Mean of the distribution) :  (0.00892325996430696, 0.07317073170731707, -1.5208250993287702)\n"
          ]
        }
      ],
      "source": [
        "# w1_Count - word 1\n",
        "# w2_Count- word -2\n",
        "# Joint_Count = word1 + word2\n",
        "# T_Words\n",
        "\n",
        "# a ==>  µ\n",
        "\n",
        "def calculator(w1_Count,w2_Count,T_words):\n",
        "  a = float((w1_Count/T_Words)*(w2_Count/T_Words))\n",
        "  b = float((Joint_Count/T_Words))\n",
        "  T = (a-b)/math.sqrt(b/T_Words)\n",
        "\n",
        "  return a,b,T\n",
        "\n",
        "print(\"µ value(Mean of the distribution) : \", calculator(w1_Count,w2_Count,T_Words))"
      ]
    },
    {
      "cell_type": "markdown",
      "metadata": {
        "id": "NsMdUlIS3V0s"
      },
      "source": [
        "**8.Finding x̄ (Sample_mean)**"
      ]
    },
    {
      "cell_type": "code",
      "execution_count": null,
      "metadata": {
        "colab": {
          "base_uri": "https://localhost:8080/"
        },
        "id": "bjdkVFEJ3InV",
        "outputId": "1a90920a-b770-4953-f2c0-3882f5a64b46"
      },
      "outputs": [
        {
          "name": "stdout",
          "output_type": "stream",
          "text": [
            "x̄ (Sample_mean) is :  0.07317073170731707\n"
          ]
        }
      ],
      "source": [
        "# w1_Count - word 1\n",
        "# w2_Count- word -2\n",
        "# Joint_Count = word1 + word2\n",
        "# T_Words\n",
        "\n",
        "# b ==>  x̄\n",
        "b = float((Joint_Count/T_Words))\n",
        "print(\"x̄ (Sample_mean) is : \",b)"
      ]
    },
    {
      "cell_type": "markdown",
      "metadata": {
        "id": "FBMOxDeK4yvi"
      },
      "source": [
        "**9. Calculating the T-Value :**\n",
        "\n",
        "* Formula :\n",
        "      µ-x̄ / √((S^2)/N)\n",
        "  \n",
        "\n",
        "* µ - Mean of the distribution(a)\n",
        "* x̄ - Sample mean(b)\n",
        "* S - Sample Variance | S^2 == x̄\n",
        "* N - Sample Size (T_Words)"
      ]
    },
    {
      "cell_type": "code",
      "execution_count": null,
      "metadata": {
        "colab": {
          "base_uri": "https://localhost:8080/"
        },
        "id": "eCbwoBlJ4xqE",
        "outputId": "74744bcb-cfb1-4a70-be8d-3a068c7a69b9"
      },
      "outputs": [
        {
          "name": "stdout",
          "output_type": "stream",
          "text": [
            "T value :  -1.5208250993287702\n"
          ]
        }
      ],
      "source": [
        "import math\n",
        "\n",
        "T = (a-b)/math.sqrt(b/T_Words)\n",
        "\n",
        "print(\"T value : \",T)"
      ]
    },
    {
      "cell_type": "markdown",
      "metadata": {
        "id": "pWFOIdwx5mYA"
      },
      "source": [
        "**10.Conclusion**\n",
        "\n",
        "      T < Critical value\n",
        "      \n",
        "      Then no colocation between two given words."
      ]
    },
    {
      "cell_type": "code",
      "execution_count": null,
      "metadata": {
        "colab": {
          "base_uri": "https://localhost:8080/"
        },
        "id": "BO05lBPU4dyy",
        "outputId": "2f8f0711-d685-46e9-9eca-0dfc0da7689e"
      },
      "outputs": [
        {
          "name": "stdout",
          "output_type": "stream",
          "text": [
            "              Word/Words  Word_Frequency\n",
            "0                natural               5\n",
            "1               language               3\n",
            "2       natural language               3\n",
            "3  Total words in Corpus              41\n",
            "\n",
            "\n",
            "\n",
            "================================================================\n",
            "µ value(Mean of the distribution) :  0.00892325996430696\n",
            "x̄ (Sample_mean) is :  0.07317073170731707\n",
            "T value :  -1.5208250993287702\n",
            "================================================\n",
            "\n",
            "\n",
            "\n",
            "                Conclusion                    \n",
            "Accept the Hypothesis\n",
            "They are not associate\n",
            "There is no dependency\n",
            "There is no colocation between natural and language -_-\n"
          ]
        }
      ],
      "source": [
        "print(Table)\n",
        "print(\"\\n\\n\")\n",
        "print(\"================================================================\")\n",
        "print(\"µ value(Mean of the distribution) : \", a)\n",
        "print(\"x̄ (Sample_mean) is : \",b)\n",
        "print(\"T value : \",T)\n",
        "print(\"================================================\")\n",
        "print(\"\\n\\n\")\n",
        "print(\"                Conclusion                    \")\n",
        "if T < Cri_Value :\n",
        "  print(\"Accept the Hypothesis\")\n",
        "  print(\"They are not associate\")\n",
        "  print(\"There is no dependency\")\n",
        "  print(\"There is no colocation between \" + w1 + \" and \" + w2 + \" -_-\" )\n",
        "else :\n",
        "  print(\"Reject the Hypothesis\")\n",
        "  print(\"They are associative\")\n",
        "  print(\"There is dependency\")\n",
        "  print(\"There is colocation between \" + w1 + \" and \" + w2 + \" ^ , ^\")"
      ]
    },
    {
      "cell_type": "code",
      "execution_count": null,
      "metadata": {
        "id": "zAymtACL8Icn"
      },
      "outputs": [],
      "source": []
    }
  ],
  "metadata": {
    "colab": {
      "provenance": []
    },
    "kernelspec": {
      "display_name": "Python 3",
      "name": "python3"
    },
    "language_info": {
      "name": "python"
    }
  },
  "nbformat": 4,
  "nbformat_minor": 0
}
